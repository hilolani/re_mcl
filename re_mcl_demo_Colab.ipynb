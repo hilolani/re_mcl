{
  "nbformat": 4,
  "nbformat_minor": 0,
  "metadata": {
    "colab": {
      "provenance": []
    },
    "kernelspec": {
      "name": "python3",
      "display_name": "Python 3"
    },
    "language_info": {
      "name": "python"
    }
  },
  "cells": [
    {
      "cell_type": "code",
      "execution_count": 4,
      "metadata": {
        "colab": {
          "base_uri": "https://localhost:8080/"
        },
        "id": "oNoSb4deHlEC",
        "outputId": "e7f743a4-ee3f-4861-a840-7e4f7c0fa1f0"
      },
      "outputs": [
        {
          "output_type": "stream",
          "name": "stdout",
          "text": [
            "Collecting git+https://github.com/hilolani/re_mcl.git\n",
            "  Cloning https://github.com/hilolani/re_mcl.git to /tmp/pip-req-build-hdg_vwgd\n",
            "  Running command git clone --filter=blob:none --quiet https://github.com/hilolani/re_mcl.git /tmp/pip-req-build-hdg_vwgd\n",
            "  Resolved https://github.com/hilolani/re_mcl.git to commit fcb1aec5290b1630ed4f86888ee2af92ea1becf5\n",
            "  Preparing metadata (setup.py) ... \u001b[?25l\u001b[?25hdone\n",
            "Requirement already satisfied: numpy in /usr/local/lib/python3.12/dist-packages (from re_mcl==0.1) (2.0.2)\n",
            "Requirement already satisfied: pandas in /usr/local/lib/python3.12/dist-packages (from re_mcl==0.1) (2.2.2)\n",
            "Requirement already satisfied: scikit-learn in /usr/local/lib/python3.12/dist-packages (from re_mcl==0.1) (1.6.1)\n",
            "Requirement already satisfied: networkx>=2.6 in /usr/local/lib/python3.12/dist-packages (from re_mcl==0.1) (3.5)\n",
            "Requirement already satisfied: python-dateutil>=2.8.2 in /usr/local/lib/python3.12/dist-packages (from pandas->re_mcl==0.1) (2.9.0.post0)\n",
            "Requirement already satisfied: pytz>=2020.1 in /usr/local/lib/python3.12/dist-packages (from pandas->re_mcl==0.1) (2025.2)\n",
            "Requirement already satisfied: tzdata>=2022.7 in /usr/local/lib/python3.12/dist-packages (from pandas->re_mcl==0.1) (2025.2)\n",
            "Requirement already satisfied: scipy>=1.6.0 in /usr/local/lib/python3.12/dist-packages (from scikit-learn->re_mcl==0.1) (1.16.2)\n",
            "Requirement already satisfied: joblib>=1.2.0 in /usr/local/lib/python3.12/dist-packages (from scikit-learn->re_mcl==0.1) (1.5.2)\n",
            "Requirement already satisfied: threadpoolctl>=3.1.0 in /usr/local/lib/python3.12/dist-packages (from scikit-learn->re_mcl==0.1) (3.6.0)\n",
            "Requirement already satisfied: six>=1.5 in /usr/local/lib/python3.12/dist-packages (from python-dateutil>=2.8.2->pandas->re_mcl==0.1) (1.17.0)\n"
          ]
        }
      ],
      "source": [
        "!pip install git+https://github.com/hilolani/re_mcl.git"
      ]
    },
    {
      "cell_type": "code",
      "source": [
        "from re_mcl import *\n",
        "re_mcl= load_adjmats()\n",
        "mtxlist = [re_mcl.gadget,re_mcl.karateclub,re_mcl.erdosReny,re_mcl.scalefree,re_mcl.homophilly,re_mcl.heterophilly,re_mcl.eat]\n",
        "[adjacencyinfocheck(i) for i in mtxlist]"
      ],
      "metadata": {
        "colab": {
          "base_uri": "https://localhost:8080/"
        },
        "id": "M2btX-vDHmri",
        "outputId": "5b27471d-37a8-41e4-b30b-5d7c89b766c1"
      },
      "execution_count": 5,
      "outputs": [
        {
          "output_type": "stream",
          "name": "stdout",
          "text": [
            "The graph is given under the format of MatrixMarket with 0-based indexes.\n",
            "The graph is given under the format of MatrixMarket with 0-based indexes.\n",
            "The graph is given under the format of MatrixMarket with 0-based indexes.\n",
            "The graph is given under the format of MatrixMarket with 0-based indexes.\n",
            "The graph is given under the format of MatrixMarket with 0-based indexes.\n",
            "The graph is given under the format of MatrixMarket with 0-based indexes.\n",
            "The graph is given under the format of MatrixMarket with 0-based indexes.\n"
          ]
        },
        {
          "output_type": "execute_result",
          "data": {
            "text/plain": [
              "[<Compressed Sparse Row sparse matrix of dtype 'int64'\n",
              " \twith 986 stored elements and shape (106, 106)>,\n",
              " <Compressed Sparse Row sparse matrix of dtype 'int64'\n",
              " \twith 156 stored elements and shape (34, 34)>,\n",
              " <Compressed Sparse Row sparse matrix of dtype 'int64'\n",
              " \twith 7866 stored elements and shape (100, 100)>,\n",
              " <Compressed Sparse Row sparse matrix of dtype 'float64'\n",
              " \twith 971 stored elements and shape (100, 100)>,\n",
              " <Compressed Sparse Row sparse matrix of dtype 'float64'\n",
              " \twith 4203 stored elements and shape (100, 100)>,\n",
              " <Compressed Sparse Row sparse matrix of dtype 'float64'\n",
              " \twith 3869 stored elements and shape (100, 100)>,\n",
              " <Compressed Sparse Row sparse matrix of dtype 'int64'\n",
              " \twith 181063 stored elements and shape (16616, 16616)>]"
            ]
          },
          "metadata": {},
          "execution_count": 5
        }
      ]
    },
    {
      "cell_type": "code",
      "source": [
        "mclprocess(re_mcl.karateclub)"
      ],
      "metadata": {
        "colab": {
          "base_uri": "https://localhost:8080/"
        },
        "id": "Ni8DDkbpJB9d",
        "outputId": "5c5703be-7f3a-4cf2-88f6-5962c2a03015"
      },
      "execution_count": 6,
      "outputs": [
        {
          "output_type": "stream",
          "name": "stdout",
          "text": [
            "The graph is given under the format of MatrixMarket with 0-based indexes.\n",
            "Soft clusters are recorded at this step. Continue.\n",
            "Soft clusters are recorded at this step. Continue.\n",
            "Soft clusters are recorded at this step. Continue.\n",
            "Soft clusters are recorded at this step. Continue.\n",
            "Soft clusters are recorded at this step. Continue.\n",
            "Soft clusters are recorded at this step. Continue.\n",
            "Soft clusters are recorded at this step. Continue.\n",
            "Soft clusters are recorded at this step. Continue.\n",
            "Soft clusters are recorded at this step. Continue.\n",
            "Soft clusters are recorded at this step. Continue.\n",
            "Hard clusters are gotten at this step (no overlaps). Stop.\n",
            "Convergence:True\n",
            "Cluster list:{0: [0, 1, 3, 4, 5, 6, 7, 10, 11, 12, 13, 16, 17, 19, 21], 1: [2, 8, 9, 14, 15, 18, 20, 22, 23, 24, 25, 26, 27, 28, 29, 30, 31, 32, 33]}\n",
            "To get more information, run \"!cat mcl_results.log\"\n"
          ]
        },
        {
          "output_type": "execute_result",
          "data": {
            "text/plain": [
              "{0: [0, 1, 3, 4, 5, 6, 7, 10, 11, 12, 13, 16, 17, 19, 21],\n",
              " 1: [2, 8, 9, 14, 15, 18, 20, 22, 23, 24, 25, 26, 27, 28, 29, 30, 31, 32, 33]}"
            ]
          },
          "metadata": {},
          "execution_count": 6
        }
      ]
    },
    {
      "cell_type": "code",
      "source": [
        "cluslist = mclprocess(re_mcl.scalefree, 20)\n",
        "rmcl_basic(cluslist,re_mcl.scalefree)#The core cluster is divided based on the algorithm of RMCL."
      ],
      "metadata": {
        "colab": {
          "base_uri": "https://localhost:8080/"
        },
        "id": "1iTBS76iHskA",
        "outputId": "30d884bb-5b6f-47ff-a986-66ee4c318655"
      },
      "execution_count": 7,
      "outputs": [
        {
          "output_type": "stream",
          "name": "stdout",
          "text": [
            "The graph is given under the format of MatrixMarket with 0-based indexes.\n",
            "Soft clusters are recorded at this step. Continue.\n",
            "Soft clusters are recorded at this step. Continue.\n",
            "Soft clusters are recorded at this step. Continue.\n",
            "Soft clusters are recorded at this step. Continue.\n",
            "Soft clusters are recorded at this step. Continue.\n",
            "Soft clusters are recorded at this step. Continue.\n",
            "Soft clusters are recorded at this step. Continue.\n",
            "Soft clusters are recorded at this step. Continue.\n",
            "Soft clusters are recorded at this step. Continue.\n",
            "Soft clusters are recorded at this step. Continue.\n",
            "Soft clusters are recorded at this step. Continue.\n",
            "Soft clusters are recorded at this step. Continue.\n",
            "Soft clusters are recorded at this step. Continue.\n",
            "Soft clusters are recorded at this step. Continue.\n",
            "Soft clusters are recorded at this step. Continue.\n",
            "Hard clusters are gotten at this step (no overlaps). Stop.\n",
            "Convergence:True\n",
            "Cluster list:{0: [0, 11, 18, 21, 49, 80], 1: [3, 48, 57, 72], 2: [1, 2, 4, 5, 9, 10, 12, 13, 14, 15, 16, 17, 23, 24, 25, 26, 28, 29, 33, 37, 39, 41, 43, 45, 50, 51, 52, 54, 58, 59, 60, 61, 62, 63, 68, 70, 75, 79, 85, 86, 88, 89, 90, 92, 93, 96, 98], 3: [6, 46], 4: [7, 66, 77, 97], 5: [8, 27, 32, 42, 53, 55, 56, 64, 67, 76, 78, 83, 84, 87, 94, 95], 6: [19, 30, 69], 7: [20, 38], 8: [22, 47, 81], 9: [31], 10: [35], 11: [36, 40, 65], 12: [44], 13: [73], 14: [82], 15: [34, 71, 74, 91, 99]}\n",
            "To get more information, run \"!cat mcl_results.log\"\n",
            "Soft clusters are recorded at this step. Continue.\n",
            "Soft clusters are recorded at this step. Continue.\n",
            "Soft clusters are recorded at this step. Continue.\n",
            "Soft clusters are recorded at this step. Continue.\n",
            "Soft clusters are recorded at this step. Continue.\n",
            "Soft clusters are recorded at this step. Continue.\n",
            "Soft clusters are recorded at this step. Continue.\n",
            "Hard clusters are gotten at this step (no overlaps). Stop.\n",
            "Convergence:True\n",
            "Cluster list:{0: [0, 1, 2, 3, 4, 5, 6, 7, 8, 9, 10, 11, 12, 13, 15, 16, 17, 18, 19, 20, 22, 23, 24, 25, 26, 27, 28, 29, 30, 31, 32, 33, 34, 37, 39, 41, 42, 43, 45], 1: [14], 2: [21], 3: [35], 4: [36], 5: [38], 6: [40], 7: [44]}\n",
            "To get more information, run \"!cat mcl_results.log\"\n",
            "rmcresult:{0: [0, 1, 2, 3, 4, 5, 6, 7, 8, 9, 10, 11, 12, 13, 15, 16, 17, 18, 19, 20, 22, 23, 24, 25, 26, 27, 28, 29, 30, 31, 32, 33, 34, 37, 39, 41, 42, 43, 45], 1: [14], 2: [21], 3: [35], 4: [36], 5: [38], 6: [40], 7: [44]}\n",
            "Final result of rmcl after renumbering--core reclustering: {0: [1, 2, 5, 9, 10, 12, 13, 14, 15, 16, 17, 23, 24, 25, 28, 29, 33, 37, 39, 41, 45, 50, 51, 52, 54, 58, 59, 60, 61, 62, 63, 68, 70, 85, 88, 90, 92, 93, 98], 1: [26], 2: [43], 3: [75], 4: [79], 5: [86], 6: [89], 7: [96]}\n"
          ]
        }
      ]
    },
    {
      "cell_type": "code",
      "source": [],
      "metadata": {
        "id": "V68Jd9cvH5XZ"
      },
      "execution_count": null,
      "outputs": []
    }
  ]
}